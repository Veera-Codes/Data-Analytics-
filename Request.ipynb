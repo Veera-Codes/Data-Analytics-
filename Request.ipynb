{
 "cells": [
  {
   "cell_type": "code",
   "execution_count": 1,
   "id": "9d03fe08-e5c1-4390-9aee-bdfda27b2eed",
   "metadata": {},
   "outputs": [
    {
     "name": "stdout",
     "output_type": "stream",
     "text": [
      "Requirement already satisfied: beautifulsoup4 in c:\\users\\student\\appdata\\local\\programs\\python\\python313\\lib\\site-packages (4.13.4)\n",
      "Requirement already satisfied: soupsieve>1.2 in c:\\users\\student\\appdata\\local\\programs\\python\\python313\\lib\\site-packages (from beautifulsoup4) (2.7)\n",
      "Requirement already satisfied: typing-extensions>=4.0.0 in c:\\users\\student\\appdata\\local\\programs\\python\\python313\\lib\\site-packages (from beautifulsoup4) (4.14.1)\n",
      "Note: you may need to restart the kernel to use updated packages.\n"
     ]
    }
   ],
   "source": [
    "pip install beautifulsoup4"
   ]
  },
  {
   "cell_type": "raw",
   "id": "2c49bba7-2fba-4354-b60b-4e6ff1ec82f8",
   "metadata": {},
   "source": [
    "import pandas as pd"
   ]
  },
  {
   "cell_type": "code",
   "execution_count": 2,
   "id": "880e9304-0213-470e-95f7-d690b7e92833",
   "metadata": {},
   "outputs": [
    {
     "name": "stdout",
     "output_type": "stream",
     "text": [
      "Requirement already satisfied: Beautifulsoup4 in c:\\users\\student\\appdata\\local\\programs\\python\\python313\\lib\\site-packages (4.13.4)\n",
      "Requirement already satisfied: requests in c:\\users\\student\\appdata\\local\\programs\\python\\python313\\lib\\site-packages (2.32.4)\n",
      "Requirement already satisfied: soupsieve>1.2 in c:\\users\\student\\appdata\\local\\programs\\python\\python313\\lib\\site-packages (from Beautifulsoup4) (2.7)\n",
      "Requirement already satisfied: typing-extensions>=4.0.0 in c:\\users\\student\\appdata\\local\\programs\\python\\python313\\lib\\site-packages (from Beautifulsoup4) (4.14.1)\n",
      "Requirement already satisfied: charset_normalizer<4,>=2 in c:\\users\\student\\appdata\\local\\programs\\python\\python313\\lib\\site-packages (from requests) (3.4.2)\n",
      "Requirement already satisfied: idna<4,>=2.5 in c:\\users\\student\\appdata\\local\\programs\\python\\python313\\lib\\site-packages (from requests) (3.10)\n",
      "Requirement already satisfied: urllib3<3,>=1.21.1 in c:\\users\\student\\appdata\\local\\programs\\python\\python313\\lib\\site-packages (from requests) (2.5.0)\n",
      "Requirement already satisfied: certifi>=2017.4.17 in c:\\users\\student\\appdata\\local\\programs\\python\\python313\\lib\\site-packages (from requests) (2025.7.14)\n",
      "Note: you may need to restart the kernel to use updated packages.\n"
     ]
    }
   ],
   "source": [
    "pip install Beautifulsoup4 requests"
   ]
  },
  {
   "cell_type": "code",
   "execution_count": 3,
   "id": "26796adf-ca6c-4542-8ce8-3ad5ddbe4d74",
   "metadata": {},
   "outputs": [],
   "source": [
    "import requests\n",
    "from bs4 import BeautifulSoup"
   ]
  },
  {
   "cell_type": "code",
   "execution_count": 4,
   "id": "ad42d0c4-e26d-4116-9d8f-82153b589753",
   "metadata": {},
   "outputs": [],
   "source": [
    "url = \"http://books.toscrape.com\""
   ]
  },
  {
   "cell_type": "code",
   "execution_count": 5,
   "id": "34dd7bde-5189-4aca-a76a-659afd0ae41e",
   "metadata": {},
   "outputs": [],
   "source": [
    "response = requests.get(url)"
   ]
  },
  {
   "cell_type": "code",
   "execution_count": 6,
   "id": "a485511d-a468-4e27-8495-ce078708ed1f",
   "metadata": {},
   "outputs": [],
   "source": [
    "soup = BeautifulSoup(response.text,'html.parser')"
   ]
  },
  {
   "cell_type": "code",
   "execution_count": 7,
   "id": "814130cc-bafa-43b1-907f-02f3aa817a88",
   "metadata": {},
   "outputs": [],
   "source": [
    "books = soup.find_all('article',class_='product_pod')"
   ]
  },
  {
   "cell_type": "code",
   "execution_count": 8,
   "id": "53f007bc-5813-40bf-be00-0db18fc93591",
   "metadata": {},
   "outputs": [
    {
     "name": "stdout",
     "output_type": "stream",
     "text": [
      "Title:A Light in the Attic\n",
      "Price: Â£51.77\n",
      "\n",
      "Title:Tipping the Velvet\n",
      "Price: Â£53.74\n",
      "\n",
      "Title:Soumission\n",
      "Price: Â£50.10\n",
      "\n",
      "Title:Sharp Objects\n",
      "Price: Â£47.82\n",
      "\n",
      "Title:Sapiens: A Brief History of Humankind\n",
      "Price: Â£54.23\n",
      "\n",
      "Title:The Requiem Red\n",
      "Price: Â£22.65\n",
      "\n",
      "Title:The Dirty Little Secrets of Getting Your Dream Job\n",
      "Price: Â£33.34\n",
      "\n",
      "Title:The Coming Woman: A Novel Based on the Life of the Infamous Feminist, Victoria Woodhull\n",
      "Price: Â£17.93\n",
      "\n",
      "Title:The Boys in the Boat: Nine Americans and Their Epic Quest for Gold at the 1936 Berlin Olympics\n",
      "Price: Â£22.60\n",
      "\n",
      "Title:The Black Maria\n",
      "Price: Â£52.15\n",
      "\n",
      "Title:Starving Hearts (Triangular Trade Trilogy, #1)\n",
      "Price: Â£13.99\n",
      "\n",
      "Title:Shakespeare's Sonnets\n",
      "Price: Â£20.66\n",
      "\n",
      "Title:Set Me Free\n",
      "Price: Â£17.46\n",
      "\n",
      "Title:Scott Pilgrim's Precious Little Life (Scott Pilgrim #1)\n",
      "Price: Â£52.29\n",
      "\n",
      "Title:Rip it Up and Start Again\n",
      "Price: Â£35.02\n",
      "\n",
      "Title:Our Band Could Be Your Life: Scenes from the American Indie Underground, 1981-1991\n",
      "Price: Â£57.25\n",
      "\n",
      "Title:Olio\n",
      "Price: Â£23.88\n",
      "\n",
      "Title:Mesaerion: The Best Science Fiction Stories 1800-1849\n",
      "Price: Â£37.59\n",
      "\n",
      "Title:Libertarianism for Beginners\n",
      "Price: Â£51.33\n",
      "\n",
      "Title:It's Only the Himalayas\n",
      "Price: Â£45.17\n",
      "\n"
     ]
    }
   ],
   "source": [
    "for book in books:\n",
    "    title=book.h3.a['title']\n",
    "    price=book.find('p',class_='price_color').text\n",
    "    print(f\"Title:{title}\\nPrice: {price}\\n\")"
   ]
  },
  {
   "cell_type": "code",
   "execution_count": 9,
   "id": "83129563-c4e1-483a-acd8-70ef62a4e2a3",
   "metadata": {},
   "outputs": [
    {
     "ename": "NameError",
     "evalue": "name 'pd' is not defined",
     "output_type": "error",
     "traceback": [
      "\u001b[31m---------------------------------------------------------------------------\u001b[39m",
      "\u001b[31mNameError\u001b[39m                                 Traceback (most recent call last)",
      "\u001b[36mCell\u001b[39m\u001b[36m \u001b[39m\u001b[32mIn[9]\u001b[39m\u001b[32m, line 1\u001b[39m\n\u001b[32m----> \u001b[39m\u001b[32m1\u001b[39m df=\u001b[43mpd\u001b[49m.DataFrame(book)\n\u001b[32m      2\u001b[39m \u001b[38;5;28mprint\u001b[39m(df.head())\n",
      "\u001b[31mNameError\u001b[39m: name 'pd' is not defined"
     ]
    }
   ],
   "source": [
    "df=pd.DataFrame(book)\n",
    "print(df.head())"
   ]
  }
 ],
 "metadata": {
  "kernelspec": {
   "display_name": "Python 3 (ipykernel)",
   "language": "python",
   "name": "python3"
  },
  "language_info": {
   "codemirror_mode": {
    "name": "ipython",
    "version": 3
   },
   "file_extension": ".py",
   "mimetype": "text/x-python",
   "name": "python",
   "nbconvert_exporter": "python",
   "pygments_lexer": "ipython3",
   "version": "3.13.5"
  }
 },
 "nbformat": 4,
 "nbformat_minor": 5
}
